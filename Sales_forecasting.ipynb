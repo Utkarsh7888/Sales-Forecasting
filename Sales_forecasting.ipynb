{
 "cells": [
  {
   "cell_type": "code",
   "execution_count": 1,
   "id": "ebc7ec01",
   "metadata": {},
   "outputs": [],
   "source": [
    "import pandas as pd\n",
    "import numpy as np\n",
    "import seaborn as sns\n",
    "import matplotlib.pyplot as plt\n",
    "import warnings\n",
    "warnings.filterwarnings('ignore')\n",
    "\n",
    "from sklearn.model_selection import train_test_split\n",
    "from sklearn.preprocessing import StandardScaler\n",
    "\n",
    "from sklearn.linear_model import LinearRegression\n",
    "from sklearn.linear_model import Ridge\n",
    "from sklearn.linear_model import Lasso\n",
    "from sklearn.tree import DecisionTreeRegressor\n",
    "from sklearn.ensemble import RandomForestRegressor\n",
    "from sklearn.svm import SVR\n",
    "from xgboost import XGBRegressor\n",
    "from sklearn.metrics import mean_absolute_error, mean_squared_error\n",
    "from sklearn.metrics import r2_score\n",
    "\n",
    "from sklearn.model_selection import GridSearchCV"
   ]
  },
  {
   "cell_type": "code",
   "execution_count": 289,
   "id": "6e9b9044",
   "metadata": {},
   "outputs": [],
   "source": [
    "data = pd.read_csv('Final_data.csv')"
   ]
  },
  {
   "cell_type": "code",
   "execution_count": 290,
   "id": "f7c8e421",
   "metadata": {},
   "outputs": [
    {
     "data": {
      "text/html": [
       "<div>\n",
       "<style scoped>\n",
       "    .dataframe tbody tr th:only-of-type {\n",
       "        vertical-align: middle;\n",
       "    }\n",
       "\n",
       "    .dataframe tbody tr th {\n",
       "        vertical-align: top;\n",
       "    }\n",
       "\n",
       "    .dataframe thead th {\n",
       "        text-align: right;\n",
       "    }\n",
       "</style>\n",
       "<table border=\"1\" class=\"dataframe\">\n",
       "  <thead>\n",
       "    <tr style=\"text-align: right;\">\n",
       "      <th></th>\n",
       "      <th>Date</th>\n",
       "      <th>Customer_Name</th>\n",
       "      <th>Item_Name</th>\n",
       "      <th>Vrh_No</th>\n",
       "      <th>Quantity</th>\n",
       "      <th>Price_per_unit</th>\n",
       "      <th>Amount</th>\n",
       "    </tr>\n",
       "  </thead>\n",
       "  <tbody>\n",
       "    <tr>\n",
       "      <th>0</th>\n",
       "      <td>2019-01-04</td>\n",
       "      <td>customer1</td>\n",
       "      <td>Item_1</td>\n",
       "      <td>1</td>\n",
       "      <td>200.0</td>\n",
       "      <td>20.0</td>\n",
       "      <td>4000.0</td>\n",
       "    </tr>\n",
       "    <tr>\n",
       "      <th>1</th>\n",
       "      <td>2019-01-04</td>\n",
       "      <td>customer1</td>\n",
       "      <td>Item_2</td>\n",
       "      <td>1</td>\n",
       "      <td>160.0</td>\n",
       "      <td>28.0</td>\n",
       "      <td>4480.0</td>\n",
       "    </tr>\n",
       "    <tr>\n",
       "      <th>2</th>\n",
       "      <td>2019-01-04</td>\n",
       "      <td>customer1</td>\n",
       "      <td>Item_3</td>\n",
       "      <td>1</td>\n",
       "      <td>12.0</td>\n",
       "      <td>60.0</td>\n",
       "      <td>720.0</td>\n",
       "    </tr>\n",
       "    <tr>\n",
       "      <th>3</th>\n",
       "      <td>2019-01-04</td>\n",
       "      <td>customer1</td>\n",
       "      <td>Item_3</td>\n",
       "      <td>1</td>\n",
       "      <td>15.0</td>\n",
       "      <td>35.0</td>\n",
       "      <td>525.0</td>\n",
       "    </tr>\n",
       "    <tr>\n",
       "      <th>4</th>\n",
       "      <td>2019-01-04</td>\n",
       "      <td>customer1</td>\n",
       "      <td>Item_3</td>\n",
       "      <td>1</td>\n",
       "      <td>25.0</td>\n",
       "      <td>25.0</td>\n",
       "      <td>625.0</td>\n",
       "    </tr>\n",
       "  </tbody>\n",
       "</table>\n",
       "</div>"
      ],
      "text/plain": [
       "         Date Customer_Name Item_Name  Vrh_No  Quantity  Price_per_unit  \\\n",
       "0  2019-01-04     customer1    Item_1       1     200.0            20.0   \n",
       "1  2019-01-04     customer1    Item_2       1     160.0            28.0   \n",
       "2  2019-01-04     customer1    Item_3       1      12.0            60.0   \n",
       "3  2019-01-04     customer1    Item_3       1      15.0            35.0   \n",
       "4  2019-01-04     customer1    Item_3       1      25.0            25.0   \n",
       "\n",
       "   Amount  \n",
       "0  4000.0  \n",
       "1  4480.0  \n",
       "2   720.0  \n",
       "3   525.0  \n",
       "4   625.0  "
      ]
     },
     "execution_count": 290,
     "metadata": {},
     "output_type": "execute_result"
    }
   ],
   "source": [
    "data.head()"
   ]
  },
  {
   "cell_type": "code",
   "execution_count": 291,
   "id": "f03a8ba4",
   "metadata": {},
   "outputs": [],
   "source": [
    "data['Customer_Name']=data['Customer_Name'].apply(lambda x:x.lstrip('customer'))\n",
    "data['Item_Name']=data['Item_Name'].apply(lambda x:x.lstrip('Item_'))"
   ]
  },
  {
   "cell_type": "code",
   "execution_count": 292,
   "id": "75c2b624",
   "metadata": {},
   "outputs": [
    {
     "data": {
      "text/html": [
       "<div>\n",
       "<style scoped>\n",
       "    .dataframe tbody tr th:only-of-type {\n",
       "        vertical-align: middle;\n",
       "    }\n",
       "\n",
       "    .dataframe tbody tr th {\n",
       "        vertical-align: top;\n",
       "    }\n",
       "\n",
       "    .dataframe thead th {\n",
       "        text-align: right;\n",
       "    }\n",
       "</style>\n",
       "<table border=\"1\" class=\"dataframe\">\n",
       "  <thead>\n",
       "    <tr style=\"text-align: right;\">\n",
       "      <th></th>\n",
       "      <th>Date</th>\n",
       "      <th>Customer_Name</th>\n",
       "      <th>Item_Name</th>\n",
       "      <th>Vrh_No</th>\n",
       "      <th>Quantity</th>\n",
       "      <th>Price_per_unit</th>\n",
       "      <th>Amount</th>\n",
       "    </tr>\n",
       "  </thead>\n",
       "  <tbody>\n",
       "    <tr>\n",
       "      <th>0</th>\n",
       "      <td>2019-01-04</td>\n",
       "      <td>1</td>\n",
       "      <td>1</td>\n",
       "      <td>1</td>\n",
       "      <td>200.0</td>\n",
       "      <td>20.0</td>\n",
       "      <td>4000.0</td>\n",
       "    </tr>\n",
       "    <tr>\n",
       "      <th>1</th>\n",
       "      <td>2019-01-04</td>\n",
       "      <td>1</td>\n",
       "      <td>2</td>\n",
       "      <td>1</td>\n",
       "      <td>160.0</td>\n",
       "      <td>28.0</td>\n",
       "      <td>4480.0</td>\n",
       "    </tr>\n",
       "    <tr>\n",
       "      <th>2</th>\n",
       "      <td>2019-01-04</td>\n",
       "      <td>1</td>\n",
       "      <td>3</td>\n",
       "      <td>1</td>\n",
       "      <td>12.0</td>\n",
       "      <td>60.0</td>\n",
       "      <td>720.0</td>\n",
       "    </tr>\n",
       "    <tr>\n",
       "      <th>3</th>\n",
       "      <td>2019-01-04</td>\n",
       "      <td>1</td>\n",
       "      <td>3</td>\n",
       "      <td>1</td>\n",
       "      <td>15.0</td>\n",
       "      <td>35.0</td>\n",
       "      <td>525.0</td>\n",
       "    </tr>\n",
       "    <tr>\n",
       "      <th>4</th>\n",
       "      <td>2019-01-04</td>\n",
       "      <td>1</td>\n",
       "      <td>3</td>\n",
       "      <td>1</td>\n",
       "      <td>25.0</td>\n",
       "      <td>25.0</td>\n",
       "      <td>625.0</td>\n",
       "    </tr>\n",
       "  </tbody>\n",
       "</table>\n",
       "</div>"
      ],
      "text/plain": [
       "         Date Customer_Name Item_Name  Vrh_No  Quantity  Price_per_unit  \\\n",
       "0  2019-01-04             1         1       1     200.0            20.0   \n",
       "1  2019-01-04             1         2       1     160.0            28.0   \n",
       "2  2019-01-04             1         3       1      12.0            60.0   \n",
       "3  2019-01-04             1         3       1      15.0            35.0   \n",
       "4  2019-01-04             1         3       1      25.0            25.0   \n",
       "\n",
       "   Amount  \n",
       "0  4000.0  \n",
       "1  4480.0  \n",
       "2   720.0  \n",
       "3   525.0  \n",
       "4   625.0  "
      ]
     },
     "execution_count": 292,
     "metadata": {},
     "output_type": "execute_result"
    }
   ],
   "source": [
    "data.head()"
   ]
  },
  {
   "cell_type": "code",
   "execution_count": 293,
   "id": "ab130a43",
   "metadata": {},
   "outputs": [
    {
     "data": {
      "text/plain": [
       "['Customer_Name', 'Item_Name', 'Quantity', 'Price_per_unit']"
      ]
     },
     "execution_count": 293,
     "metadata": {},
     "output_type": "execute_result"
    }
   ],
   "source": [
    "dep_var=['Customer_Name','Item_Name','Quantity','Price_per_unit']\n",
    "dep_var"
   ]
  },
  {
   "cell_type": "code",
   "execution_count": 294,
   "id": "a4851da6",
   "metadata": {},
   "outputs": [],
   "source": [
    "y=data.Amount\n",
    "x=data[dep_var]"
   ]
  },
  {
   "cell_type": "code",
   "execution_count": 295,
   "id": "20e5f124",
   "metadata": {},
   "outputs": [
    {
     "data": {
      "text/html": [
       "<div>\n",
       "<style scoped>\n",
       "    .dataframe tbody tr th:only-of-type {\n",
       "        vertical-align: middle;\n",
       "    }\n",
       "\n",
       "    .dataframe tbody tr th {\n",
       "        vertical-align: top;\n",
       "    }\n",
       "\n",
       "    .dataframe thead th {\n",
       "        text-align: right;\n",
       "    }\n",
       "</style>\n",
       "<table border=\"1\" class=\"dataframe\">\n",
       "  <thead>\n",
       "    <tr style=\"text-align: right;\">\n",
       "      <th></th>\n",
       "      <th>Customer_Name</th>\n",
       "      <th>Item_Name</th>\n",
       "      <th>Quantity</th>\n",
       "      <th>Price_per_unit</th>\n",
       "    </tr>\n",
       "  </thead>\n",
       "  <tbody>\n",
       "    <tr>\n",
       "      <th>0</th>\n",
       "      <td>1</td>\n",
       "      <td>1</td>\n",
       "      <td>200.0</td>\n",
       "      <td>20.0</td>\n",
       "    </tr>\n",
       "    <tr>\n",
       "      <th>1</th>\n",
       "      <td>1</td>\n",
       "      <td>2</td>\n",
       "      <td>160.0</td>\n",
       "      <td>28.0</td>\n",
       "    </tr>\n",
       "    <tr>\n",
       "      <th>2</th>\n",
       "      <td>1</td>\n",
       "      <td>3</td>\n",
       "      <td>12.0</td>\n",
       "      <td>60.0</td>\n",
       "    </tr>\n",
       "    <tr>\n",
       "      <th>3</th>\n",
       "      <td>1</td>\n",
       "      <td>3</td>\n",
       "      <td>15.0</td>\n",
       "      <td>35.0</td>\n",
       "    </tr>\n",
       "    <tr>\n",
       "      <th>4</th>\n",
       "      <td>1</td>\n",
       "      <td>3</td>\n",
       "      <td>25.0</td>\n",
       "      <td>25.0</td>\n",
       "    </tr>\n",
       "  </tbody>\n",
       "</table>\n",
       "</div>"
      ],
      "text/plain": [
       "  Customer_Name Item_Name  Quantity  Price_per_unit\n",
       "0             1         1     200.0            20.0\n",
       "1             1         2     160.0            28.0\n",
       "2             1         3      12.0            60.0\n",
       "3             1         3      15.0            35.0\n",
       "4             1         3      25.0            25.0"
      ]
     },
     "execution_count": 295,
     "metadata": {},
     "output_type": "execute_result"
    }
   ],
   "source": [
    "x.head()"
   ]
  },
  {
   "cell_type": "code",
   "execution_count": 296,
   "id": "9cf80fb2",
   "metadata": {},
   "outputs": [],
   "source": [
    "data['Customer_Name'] = data['Customer_Name'].astype('int')\n",
    "data['Item_Name'] = data['Item_Name'].astype('int')"
   ]
  },
  {
   "cell_type": "code",
   "execution_count": 297,
   "id": "95c8364b",
   "metadata": {},
   "outputs": [],
   "source": [
    "X_train, X_test, Y_train, Y_test = train_test_split(x, y, test_size=0.3,random_state=123)"
   ]
  },
  {
   "cell_type": "code",
   "execution_count": 298,
   "id": "1dc26369",
   "metadata": {},
   "outputs": [],
   "source": [
    "models = [LinearRegression(),Lasso(), Ridge(),DecisionTreeRegressor(random_state=123),RandomForestRegressor(random_state=123),\n",
    "         SVR(),XGBRegressor(random_state=123)]\n",
    "  \n",
    "def model_eval(models):\n",
    "    for i in range(len(models)):\n",
    "        models[i].fit(X_train_s, Y_train)\n",
    "        print(f'{models[i]} : ')\n",
    "        \n",
    "        train_preds = models[i].predict(X_train_s)\n",
    "        print('Training Error(RMSE) : ', mean_squared_error(Y_train, train_preds,squared=False))\n",
    "        \n",
    "        val_preds = models[i].predict(X_test_s)\n",
    "        print('Validation Error(RMSE) : ', mean_squared_error(Y_test, val_preds,squared=False))\n",
    "        print()"
   ]
  },
  {
   "cell_type": "code",
   "execution_count": 299,
   "id": "87682755",
   "metadata": {},
   "outputs": [
    {
     "name": "stdout",
     "output_type": "stream",
     "text": [
      "LinearRegression() : \n",
      "Training Error(RMSE) :  5239.601181483426\n",
      "Validation Error(RMSE) :  5454.589095775175\n",
      "\n",
      "Lasso() : \n",
      "Training Error(RMSE) :  5239.601516388987\n",
      "Validation Error(RMSE) :  5454.427422583814\n",
      "\n",
      "Ridge() : \n",
      "Training Error(RMSE) :  5239.607747129009\n",
      "Validation Error(RMSE) :  5454.034685363089\n",
      "\n",
      "DecisionTreeRegressor(random_state=123) : \n",
      "Training Error(RMSE) :  0.0\n",
      "Validation Error(RMSE) :  2921.065579267405\n",
      "\n",
      "RandomForestRegressor(random_state=123) : \n",
      "Training Error(RMSE) :  645.9579064699304\n",
      "Validation Error(RMSE) :  2277.7712619206213\n",
      "\n",
      "SVR() : \n",
      "Training Error(RMSE) :  12895.971908918096\n",
      "Validation Error(RMSE) :  13080.428984155109\n",
      "\n",
      "XGBRegressor(base_score=None, booster=None, callbacks=None,\n",
      "             colsample_bylevel=None, colsample_bynode=None,\n",
      "             colsample_bytree=None, early_stopping_rounds=None,\n",
      "             enable_categorical=False, eval_metric=None, feature_types=None,\n",
      "             gamma=None, gpu_id=None, grow_policy=None, importance_type=None,\n",
      "             interaction_constraints=None, learning_rate=None, max_bin=None,\n",
      "             max_cat_threshold=None, max_cat_to_onehot=None,\n",
      "             max_delta_step=None, max_depth=None, max_leaves=None,\n",
      "             min_child_weight=None, missing=nan, monotone_constraints=None,\n",
      "             n_estimators=100, n_jobs=None, num_parallel_tree=None,\n",
      "             predictor=None, random_state=123, ...) : \n",
      "Training Error(RMSE) :  51.48172143240722\n",
      "Validation Error(RMSE) :  2278.154747854928\n",
      "\n"
     ]
    }
   ],
   "source": [
    "model_eval(models)"
   ]
  },
  {
   "cell_type": "markdown",
   "id": "40bb949c",
   "metadata": {},
   "source": [
    "### Hypertuned XGBRegressor"
   ]
  },
  {
   "cell_type": "code",
   "execution_count": 300,
   "id": "cabfb6ff",
   "metadata": {},
   "outputs": [
    {
     "data": {
      "text/plain": [
       "GridSearchCV(cv=2,\n",
       "             estimator=XGBRegressor(base_score=None, booster=None,\n",
       "                                    callbacks=None, colsample_bylevel=None,\n",
       "                                    colsample_bynode=None,\n",
       "                                    colsample_bytree=None,\n",
       "                                    early_stopping_rounds=None,\n",
       "                                    enable_categorical=False, eval_metric=None,\n",
       "                                    feature_types=None, gamma=None, gpu_id=None,\n",
       "                                    grow_policy=None, importance_type=None,\n",
       "                                    interaction_constraints=None,\n",
       "                                    learning_rate=None, m...\n",
       "                                    max_cat_to_onehot=None, max_delta_step=None,\n",
       "                                    max_depth=None, max_leaves=None,\n",
       "                                    min_child_weight=None, missing=nan,\n",
       "                                    monotone_constraints=None, n_estimators=100,\n",
       "                                    n_jobs=None, num_parallel_tree=None,\n",
       "                                    predictor=None, random_state=None, ...),\n",
       "             n_jobs=5,\n",
       "             param_grid={'booster': ['gbtree', 'gblinear', 'dart'],\n",
       "                         'learning_rate': [0.03, 0.07, 0.1, 0.3, 0.6],\n",
       "                         'objective': ['reg:squarederror']})"
      ]
     },
     "execution_count": 300,
     "metadata": {},
     "output_type": "execute_result"
    }
   ],
   "source": [
    "xgb1 = XGBRegressor()\n",
    "parameters = {'objective':['reg:squarederror'],\n",
    "              'learning_rate': [.03,.07,0.1,0.3,0.6],\n",
    "              'booster':['gbtree','gblinear','dart']}\n",
    "\n",
    "xgb_grid = GridSearchCV(xgb1,parameters,cv = 2,n_jobs = 5)\n",
    "\n",
    "xgb_grid.fit(X_train_s,Y_train)"
   ]
  },
  {
   "cell_type": "code",
   "execution_count": 301,
   "id": "fcef9be6",
   "metadata": {},
   "outputs": [
    {
     "data": {
      "text/plain": [
       "{'booster': 'dart', 'learning_rate': 0.6, 'objective': 'reg:squarederror'}"
      ]
     },
     "execution_count": 301,
     "metadata": {},
     "output_type": "execute_result"
    }
   ],
   "source": [
    "xgb_grid.best_params_"
   ]
  },
  {
   "cell_type": "code",
   "execution_count": 302,
   "id": "ea4e6493",
   "metadata": {},
   "outputs": [
    {
     "name": "stdout",
     "output_type": "stream",
     "text": [
      "Training RMSE :  19.49762173017912\n",
      "Validation RMSE :  2374.0195605281774\n"
     ]
    }
   ],
   "source": [
    "mod=XGBRegressor(random_state=123,booster='dart',learning_rate=0.6,objective='reg:squarederror')\n",
    "model=mod.fit(X_train_s, Y_train)\n",
    "train_preds = model.predict(X_train_s)\n",
    "print('Training RMSE : ', mean_squared_error(Y_train, train_preds,squared=False))\n",
    "val_preds = model.predict(X_test_s)\n",
    "print('Validation RMSE : ', mean_squared_error(Y_test, val_preds,squared=False))"
   ]
  },
  {
   "cell_type": "markdown",
   "id": "57f3ceaa",
   "metadata": {},
   "source": [
    "### Hypertuned RandomForestRegressor"
   ]
  },
  {
   "cell_type": "code",
   "execution_count": 23,
   "id": "de0e476b",
   "metadata": {},
   "outputs": [],
   "source": [
    "n_estimators = [int(x) for x in np.linspace(start = 1, stop = 20, num = 20)]\n",
    "max_features = ['auto','sqrt','log2']\n",
    "max_depth = [int(x) for x in np.linspace(10, 120, num = 12)]\n",
    "min_samples_split = [2, 6, 10]\n",
    "min_samples_leaf = [1, 3, 4]\n",
    "bootstrap = [True, False]\n",
    "oob_score = [True, False]\n",
    "warm_start = [True, False]\n",
    "criterion = ['squared_error', 'absolute_error', 'friedman_mse', 'poisson']\n",
    "\n",
    "random_grid = {'n_estimators': n_estimators,'max_features': max_features,'max_depth': max_depth,'min_samples_split': min_samples_split,\n",
    "'min_samples_leaf': min_samples_leaf,\n",
    "'bootstrap': bootstrap,\n",
    "'criterion':criterion,\n",
    "'oob_score':oob_score,\n",
    "'warm_start':warm_start}"
   ]
  },
  {
   "cell_type": "code",
   "execution_count": 24,
   "id": "893cb754",
   "metadata": {},
   "outputs": [
    {
     "data": {
      "text/plain": [
       "GridSearchCV(cv=4, estimator=RandomForestRegressor(), n_jobs=-1,\n",
       "             param_grid={'bootstrap': [True, False],\n",
       "                         'criterion': ['squared_error', 'absolute_error',\n",
       "                                       'friedman_mse', 'poisson'],\n",
       "                         'max_depth': [10, 20, 30, 40, 50, 60, 70, 80, 90, 100,\n",
       "                                       110, 120],\n",
       "                         'max_features': ['auto', 'sqrt', 'log2'],\n",
       "                         'min_samples_leaf': [1, 3, 4],\n",
       "                         'min_samples_split': [2, 6, 10],\n",
       "                         'n_estimators': [1, 2, 3, 4, 5, 6, 7, 8, 9, 10, 11, 12,\n",
       "                                          13, 14, 15, 16, 17, 18, 19, 20],\n",
       "                         'oob_score': [True, False],\n",
       "                         'warm_start': [True, False]})"
      ]
     },
     "execution_count": 24,
     "metadata": {},
     "output_type": "execute_result"
    }
   ],
   "source": [
    "rf1 = RandomForestRegressor()\n",
    "rf1_grid = GridSearchCV(rf1, random_grid, cv = 4, n_jobs = -1)\n",
    "\n",
    "rf1_grid.fit(X_train_s,Y_train)"
   ]
  },
  {
   "cell_type": "code",
   "execution_count": 25,
   "id": "300fdb3f",
   "metadata": {},
   "outputs": [
    {
     "data": {
      "text/plain": [
       "{'bootstrap': False,\n",
       " 'criterion': 'absolute_error',\n",
       " 'max_depth': 20,\n",
       " 'max_features': 'log2',\n",
       " 'min_samples_leaf': 1,\n",
       " 'min_samples_split': 2,\n",
       " 'n_estimators': 20,\n",
       " 'oob_score': False,\n",
       " 'warm_start': False}"
      ]
     },
     "execution_count": 25,
     "metadata": {},
     "output_type": "execute_result"
    }
   ],
   "source": [
    "rf1_grid.best_params_"
   ]
  },
  {
   "cell_type": "code",
   "execution_count": 303,
   "id": "a2717305",
   "metadata": {
    "scrolled": true
   },
   "outputs": [
    {
     "name": "stdout",
     "output_type": "stream",
     "text": [
      "Training RMSE :  4.431750352821918\n",
      "Validation RMSE :  2558.5590589925114\n"
     ]
    }
   ],
   "source": [
    "m=RandomForestRegressor(random_state=123,bootstrap = False,criterion='absolute_error',max_depth=20,\n",
    "                        min_samples_leaf=1,min_samples_split=2,n_estimators=20,max_features='log2')\n",
    "model=m.fit(X_train_s, Y_train)\n",
    "train_preds = model.predict(X_train_s)\n",
    "print('Training RMSE : ', mean_squared_error(Y_train, train_preds,squared=False))\n",
    "val_preds = model.predict(X_test_s)\n",
    "print('Validation RMSE : ', mean_squared_error(Y_test, val_preds,squared=False))"
   ]
  },
  {
   "cell_type": "markdown",
   "id": "f6dfb546",
   "metadata": {},
   "source": [
    "### Final model"
   ]
  },
  {
   "cell_type": "code",
   "execution_count": 320,
   "id": "0112983f",
   "metadata": {},
   "outputs": [],
   "source": [
    "Actual_Amount= train_test_split(data['Amount'],test_size=0.3,random_state=123)\n",
    "X_train['Actual_Sales'] = Actual_Amount[0]"
   ]
  },
  {
   "cell_type": "code",
   "execution_count": 327,
   "id": "91376c5a",
   "metadata": {},
   "outputs": [
    {
     "data": {
      "text/plain": [
       "RandomForestRegressor(random_state=123)"
      ]
     },
     "execution_count": 327,
     "metadata": {},
     "output_type": "execute_result"
    }
   ],
   "source": [
    "final_model=RandomForestRegressor(random_state=123)\n",
    "final_model.fit(X_train_s,Y_train)"
   ]
  },
  {
   "cell_type": "code",
   "execution_count": 328,
   "id": "e741e338",
   "metadata": {},
   "outputs": [],
   "source": [
    "X_train[\"Predicted_Sales\"] = final_model.predict(X_train_s)"
   ]
  },
  {
   "cell_type": "code",
   "execution_count": 329,
   "id": "22af97a7",
   "metadata": {},
   "outputs": [
    {
     "data": {
      "text/html": [
       "<div>\n",
       "<style scoped>\n",
       "    .dataframe tbody tr th:only-of-type {\n",
       "        vertical-align: middle;\n",
       "    }\n",
       "\n",
       "    .dataframe tbody tr th {\n",
       "        vertical-align: top;\n",
       "    }\n",
       "\n",
       "    .dataframe thead th {\n",
       "        text-align: right;\n",
       "    }\n",
       "</style>\n",
       "<table border=\"1\" class=\"dataframe\">\n",
       "  <thead>\n",
       "    <tr style=\"text-align: right;\">\n",
       "      <th></th>\n",
       "      <th>Customer_Name</th>\n",
       "      <th>Item_Name</th>\n",
       "      <th>Quantity</th>\n",
       "      <th>Price_per_unit</th>\n",
       "      <th>Actual_Sales</th>\n",
       "      <th>Predicted_Sales</th>\n",
       "    </tr>\n",
       "  </thead>\n",
       "  <tbody>\n",
       "    <tr>\n",
       "      <th>1685</th>\n",
       "      <td>20</td>\n",
       "      <td>3</td>\n",
       "      <td>10.00</td>\n",
       "      <td>50.0</td>\n",
       "      <td>500.0</td>\n",
       "      <td>503.100</td>\n",
       "    </tr>\n",
       "    <tr>\n",
       "      <th>385</th>\n",
       "      <td>8</td>\n",
       "      <td>29</td>\n",
       "      <td>36.00</td>\n",
       "      <td>36.0</td>\n",
       "      <td>1296.0</td>\n",
       "      <td>1299.243</td>\n",
       "    </tr>\n",
       "    <tr>\n",
       "      <th>1224</th>\n",
       "      <td>68</td>\n",
       "      <td>7</td>\n",
       "      <td>2270.52</td>\n",
       "      <td>20.0</td>\n",
       "      <td>45410.4</td>\n",
       "      <td>44399.745</td>\n",
       "    </tr>\n",
       "    <tr>\n",
       "      <th>116</th>\n",
       "      <td>2</td>\n",
       "      <td>7</td>\n",
       "      <td>65.00</td>\n",
       "      <td>22.0</td>\n",
       "      <td>1430.0</td>\n",
       "      <td>1398.300</td>\n",
       "    </tr>\n",
       "    <tr>\n",
       "      <th>1114</th>\n",
       "      <td>2</td>\n",
       "      <td>3</td>\n",
       "      <td>5.00</td>\n",
       "      <td>29.0</td>\n",
       "      <td>145.0</td>\n",
       "      <td>148.690</td>\n",
       "    </tr>\n",
       "    <tr>\n",
       "      <th>...</th>\n",
       "      <td>...</td>\n",
       "      <td>...</td>\n",
       "      <td>...</td>\n",
       "      <td>...</td>\n",
       "      <td>...</td>\n",
       "      <td>...</td>\n",
       "    </tr>\n",
       "    <tr>\n",
       "      <th>1122</th>\n",
       "      <td>103</td>\n",
       "      <td>16</td>\n",
       "      <td>12.00</td>\n",
       "      <td>95.0</td>\n",
       "      <td>1140.0</td>\n",
       "      <td>1129.620</td>\n",
       "    </tr>\n",
       "    <tr>\n",
       "      <th>1346</th>\n",
       "      <td>2</td>\n",
       "      <td>27</td>\n",
       "      <td>30.00</td>\n",
       "      <td>49.0</td>\n",
       "      <td>1470.0</td>\n",
       "      <td>1493.100</td>\n",
       "    </tr>\n",
       "    <tr>\n",
       "      <th>1406</th>\n",
       "      <td>2</td>\n",
       "      <td>6</td>\n",
       "      <td>25.00</td>\n",
       "      <td>15.0</td>\n",
       "      <td>375.0</td>\n",
       "      <td>377.050</td>\n",
       "    </tr>\n",
       "    <tr>\n",
       "      <th>1389</th>\n",
       "      <td>2</td>\n",
       "      <td>3</td>\n",
       "      <td>30.00</td>\n",
       "      <td>19.0</td>\n",
       "      <td>570.0</td>\n",
       "      <td>574.960</td>\n",
       "    </tr>\n",
       "    <tr>\n",
       "      <th>1534</th>\n",
       "      <td>2</td>\n",
       "      <td>33</td>\n",
       "      <td>30.00</td>\n",
       "      <td>30.0</td>\n",
       "      <td>900.0</td>\n",
       "      <td>893.894</td>\n",
       "    </tr>\n",
       "  </tbody>\n",
       "</table>\n",
       "<p>1369 rows × 6 columns</p>\n",
       "</div>"
      ],
      "text/plain": [
       "     Customer_Name Item_Name  Quantity  Price_per_unit  Actual_Sales  \\\n",
       "1685            20         3     10.00            50.0         500.0   \n",
       "385              8        29     36.00            36.0        1296.0   \n",
       "1224            68         7   2270.52            20.0       45410.4   \n",
       "116              2         7     65.00            22.0        1430.0   \n",
       "1114             2         3      5.00            29.0         145.0   \n",
       "...            ...       ...       ...             ...           ...   \n",
       "1122           103        16     12.00            95.0        1140.0   \n",
       "1346             2        27     30.00            49.0        1470.0   \n",
       "1406             2         6     25.00            15.0         375.0   \n",
       "1389             2         3     30.00            19.0         570.0   \n",
       "1534             2        33     30.00            30.0         900.0   \n",
       "\n",
       "      Predicted_Sales  \n",
       "1685          503.100  \n",
       "385          1299.243  \n",
       "1224        44399.745  \n",
       "116          1398.300  \n",
       "1114          148.690  \n",
       "...               ...  \n",
       "1122         1129.620  \n",
       "1346         1493.100  \n",
       "1406          377.050  \n",
       "1389          574.960  \n",
       "1534          893.894  \n",
       "\n",
       "[1369 rows x 6 columns]"
      ]
     },
     "execution_count": 329,
     "metadata": {},
     "output_type": "execute_result"
    }
   ],
   "source": [
    "X_train"
   ]
  },
  {
   "cell_type": "code",
   "execution_count": null,
   "id": "a9839529",
   "metadata": {},
   "outputs": [],
   "source": []
  }
 ],
 "metadata": {
  "kernelspec": {
   "display_name": "Python 3 (ipykernel)",
   "language": "python",
   "name": "python3"
  },
  "language_info": {
   "codemirror_mode": {
    "name": "ipython",
    "version": 3
   },
   "file_extension": ".py",
   "mimetype": "text/x-python",
   "name": "python",
   "nbconvert_exporter": "python",
   "pygments_lexer": "ipython3",
   "version": "3.9.13"
  }
 },
 "nbformat": 4,
 "nbformat_minor": 5
}
